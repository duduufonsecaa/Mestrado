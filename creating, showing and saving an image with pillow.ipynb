{
 "cells": [
  {
   "cell_type": "markdown",
   "source": [
    "Import Pillow"
   ],
   "metadata": {}
  },
  {
   "cell_type": "code",
   "execution_count": 37,
   "source": [
    "from PIL import Image as im"
   ],
   "outputs": [],
   "metadata": {}
  },
  {
   "cell_type": "markdown",
   "source": [
    "making a new image"
   ],
   "metadata": {}
  },
  {
   "cell_type": "code",
   "execution_count": 38,
   "source": [
    "img = im.new(mode = \"RGB\", size = (1000,1000), color =(255,255,255))"
   ],
   "outputs": [],
   "metadata": {}
  },
  {
   "cell_type": "markdown",
   "source": [
    "loading pixels"
   ],
   "metadata": {}
  },
  {
   "cell_type": "code",
   "execution_count": 39,
   "source": [
    "p = img.load()"
   ],
   "outputs": [],
   "metadata": {}
  },
  {
   "cell_type": "code",
   "execution_count": 40,
   "source": [
    "for i in  range (img.size[1]):\r\n",
    "    for j in range (img.size[0]):\r\n",
    "        if i > j:\r\n",
    "            p[i,j] = (255,0,0)"
   ],
   "outputs": [],
   "metadata": {}
  },
  {
   "cell_type": "markdown",
   "source": [
    "saving th image"
   ],
   "metadata": {}
  },
  {
   "cell_type": "code",
   "execution_count": 41,
   "source": [
    "img.save(\"new_image.png\")"
   ],
   "outputs": [],
   "metadata": {}
  },
  {
   "cell_type": "markdown",
   "source": [
    "opening the image"
   ],
   "metadata": {}
  },
  {
   "cell_type": "code",
   "execution_count": 42,
   "source": [
    "top = im.open(\"new_image.png\",'r')"
   ],
   "outputs": [],
   "metadata": {}
  },
  {
   "cell_type": "markdown",
   "source": [
    "Showing the image"
   ],
   "metadata": {}
  },
  {
   "cell_type": "code",
   "execution_count": 43,
   "source": [
    "top.show()"
   ],
   "outputs": [],
   "metadata": {}
<<<<<<< HEAD
  },
  {
   "cell_type": "markdown",
   "source": [
    "closing the image"
   ],
   "metadata": {}
  },
  {
   "cell_type": "code",
   "execution_count": null,
   "source": [
    "top.close()"
   ],
   "outputs": [],
   "metadata": {}
=======
>>>>>>> 638d405de21abc2321f524c7421eec151caea410
  }
 ],
 "metadata": {
  "kernelspec": {
   "name": "python3",
   "display_name": "Python 3.9.6 64-bit"
  },
  "language_info": {
   "codemirror_mode": {
    "name": "ipython",
    "version": 3
   },
   "file_extension": ".py",
   "mimetype": "text/x-python",
   "name": "python",
   "nbconvert_exporter": "python",
   "pygments_lexer": "ipython3",
   "version": "3.9.6"
  },
  "interpreter": {
   "hash": "104ab0b201326c003eb326b253436127765e9423f74595591084a446732f77fa"
  }
 },
 "nbformat": 4,
 "nbformat_minor": 5
}