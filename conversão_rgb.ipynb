{
  "nbformat": 4,
  "nbformat_minor": 0,
  "metadata": {
    "colab": {
      "name": "conversão rgb",
      "provenance": [],
      "collapsed_sections": [],
      "authorship_tag": "ABX9TyOJOBeSA+c57+Erea/xQ4/q",
      "include_colab_link": true
    },
    "kernelspec": {
      "name": "python3",
      "display_name": "Python 3"
    },
    "language_info": {
      "name": "python"
    }
  },
  "cells": [
    {
      "cell_type": "markdown",
      "metadata": {
        "id": "view-in-github",
        "colab_type": "text"
      },
      "source": [
        "<a href=\"https://colab.research.google.com/github/duduufonsecaa/Mestrado/blob/main/convers%C3%A3o_rgb.ipynb\" target=\"_parent\"><img src=\"https://colab.research.google.com/assets/colab-badge.svg\" alt=\"Open In Colab\"/></a>"
      ]
    },
    {
      "cell_type": "code",
      "source": [
        "!pip install pyradiomics"
      ],
      "metadata": {
        "id": "KoILLdcTFhMa"
      },
      "execution_count": null,
      "outputs": []
    },
    {
      "cell_type": "code",
      "source": [
        "from __future__ import print_function\n",
        "import SimpleITK as sitk\n",
        "import radiomics\n",
        "from radiomics import featureextractor\n",
        "from datetime import datetime\n",
        "import os\n",
        "from PIL import Image, ImageOps"
      ],
      "metadata": {
        "id": "JvdSN0iXAl-A"
      },
      "execution_count": 2,
      "outputs": []
    },
    {
      "cell_type": "markdown",
      "source": [
        "conversão para canais r e g e eritema"
      ],
      "metadata": {
        "id": "44F2PB2wDo9m"
      }
    },
    {
      "cell_type": "code",
      "execution_count": null,
      "metadata": {
        "id": "JOo6Z1Nm5KEq"
      },
      "outputs": [],
      "source": [
        "\n",
        "\n",
        "modo = input('modo: \\n')\n",
        "\n",
        "print(\"começo da conversão:\", datetime.now().strftime(\"%H:%M:%S\"))\n",
        "path = r'/content/image_pol'\n",
        "\n",
        "''' if (modo == 'Ops'):\n",
        "    for path, subdir, files in os.walk(path):\n",
        "        for name in files:\n",
        "           img = Image.open(os.path.join(path,name))\n",
        "           g = ImageOps.grayscale(img)\n",
        "           g.save(os.path.join(r'C:\\Users\\marco\\Desktop\\Mestrado\\Pesquisa\\Patients_gray_Ops',name))\n",
        "\n",
        "if (modo == 'L' or modo == 'l'):\n",
        "    for path, subdir, files in os.walk(path):\n",
        "        for name in files:\n",
        "            img = Image.open(os.path.join(path,name)).convert('L')\n",
        "            img.save(os.path.join(r'C:\\Users\\marco\\Desktop\\Mestrado\\Pesquisa\\Patients_gray_L',name))\n",
        "\n",
        "if (modo == 'channels'):\n",
        "    for path, subdir, files in os.walk(path):\n",
        "        for img in files:\n",
        "            img_rgb = Image.open(os.path.join(path,img))\n",
        "            img_r = img_rgb.getchannel(0)\n",
        "            img_g = img_rgb.getchannel(1)\n",
        "            img_b = img_rgb.getchannel(2)\n",
        "            new_image = Image.new('L', (img_rgb.size[0],img_rgb.size[1]), 0)\n",
        "            new_image.paste(img_r,(0,0))\n",
        "            new_image.paste(img_g,(img_g.size[0],0))\n",
        "            new_image.paste(img_b,(img_g.size[0],0))\n",
        "            new_image.save(os.path.join(r'C:\\Users\\marco\\Desktop\\Mestrado\\Pesquisa\\Patients_gray_channel',img)) '''\n",
        "if (modo == 'r'):\n",
        "    for path, subdir, files in os.walk(path):\n",
        "        for img in files:\n",
        "            img_rgb = Image.open(os.path.join(path,img))\n",
        "            img_r = img_rgb.getchannel(0)\n",
        "            \n",
        "            new_image = Image.new('L', (img_rgb.size[0],img_rgb.size[1]), 0)\n",
        "            new_image.paste(img_r,(0,0))\n",
        "            new_image.save(os.path.join(r'/content/image_r',img))\n",
        "if (modo == 'g'):\n",
        "    for path, subdir, files in os.walk(path):\n",
        "        for img in files:\n",
        "            img_rgb = Image.open(os.path.join(path,img))\n",
        "            \n",
        "            img_g = img_rgb.getchannel(1)\n",
        "            \n",
        "            new_image = Image.new('L', (img_rgb.size[0],img_rgb.size[1]), 0)\n",
        "            new_image.paste(img_g,(0,0))\n",
        "            \n",
        "            \n",
        "            new_image.save(os.path.join(r'/content/image_g',img))\n",
        "print(\"termino da conversão:\", datetime.now().strftime(\"%H:%M:%S\"))\n",
        "\n",
        "\n",
        "\n"
      ]
    },
    {
      "cell_type": "markdown",
      "source": [
        "conversão para nrrd"
      ],
      "metadata": {
        "id": "hNMbFzlhDsl4"
      }
    },
    {
      "cell_type": "code",
      "source": [
        "\n",
        "\n",
        "for path, subdir, files in os.walk(r'/content/image_r'):\n",
        "    for name in files:\n",
        "        names = name.split(\".JPG\")        \n",
        "        im = sitk.ReadImage(os.path.join(r'/content/image_r',name))\n",
        "        sitk.WriteImage(im, os.path.join(r'/content/image_r_nrrd',names[0])+'.nrrd')\n",
        "\n",
        "for path, subdir, files in os.walk(r'/content/image_g'):\n",
        "    for name in files:\n",
        "        names = name.split(\".JPG\")        \n",
        "        im = sitk.ReadImage(os.path.join(r'/content/image_g',name))\n",
        "        sitk.WriteImage(im, os.path.join(r'/content/image_g_nrrd',names[0])+'.nrrd')\n",
        "\n",
        "for path, subdir, files in os.walk(r'/content/image_eri'):\n",
        "    for name in files:\n",
        "        names = name.split(\".JPG\")        \n",
        "        im = sitk.ReadImage(os.path.join(r'/content/image_eri',name))\n",
        "        sitk.WriteImage(im, os.path.join(r'/content/image_eri_nrrd',names[0])+'.nrrd')\n",
        "        \n"
      ],
      "metadata": {
        "id": "cUl2-vhwCPZt"
      },
      "execution_count": null,
      "outputs": []
    },
    {
      "cell_type": "markdown",
      "source": [
        "listas para organização"
      ],
      "metadata": {
        "id": "BiIEgq4xDvzI"
      }
    },
    {
      "cell_type": "code",
      "source": [
        "image_r = []\n",
        "image_g = []\n",
        "image_eri = []\n",
        "image_r_split = []\n",
        "image_g_split = []\n",
        "image_eri_split = []\n",
        "mask = []"
      ],
      "metadata": {
        "id": "45pOoQrqArXz"
      },
      "execution_count": null,
      "outputs": []
    },
    {
      "cell_type": "code",
      "source": [
        "for path, subdir, files in os.walk(r'/content/image_r_nrrd'):\n",
        "    for images in files:\n",
        "        image_r.append(os.path.join(r'/content/image_r_nrrd',images))\n",
        "        image_r_split.append(images.split('.nrrd'))\n",
        "for path, subdir, files in os.walk(r'/content/image_g_nrrd'):\n",
        "    for images in files:\n",
        "        image_g.append(os.path.join(r'/content/image_g_nrrd',images))\n",
        "        image_g_split.append(images.split('.nrrd'))\n",
        "for path, subdir, files in os.walk(r'/content/image_eri_nrrd'):\n",
        "    for images in files:\n",
        "        image_eri.append(os.path.join(r'/content/image_eri_nrrd',images))\n",
        "        image_eri_split.append(images.split('.nrrd'))\n",
        "        \n",
        "\n",
        "for path, subdir, files in os.walk(r'C:\\Users\\marco\\Desktop\\Mestrado\\Pesquisa\\masks'):\n",
        "    for masks in files:\n",
        "        mask.append(os.path.join(r'C:\\Users\\marco\\Desktop\\Mestrado\\Pesquisa\\masks',masks))"
      ],
      "metadata": {
        "id": "vEeBwhReAugP"
      },
      "execution_count": null,
      "outputs": []
    },
    {
      "cell_type": "markdown",
      "source": [
        "extração do pyradiomics e resultados"
      ],
      "metadata": {
        "id": "MESvadHcD8EX"
      }
    },
    {
      "cell_type": "code",
      "source": [
        "for i in range (len(image_r)):\n",
        "    imageName_r = image_r_nrrd[i]\n",
        "    imageName_g = image_g_nrrd[i]\n",
        "    imageName_eri = image_eri_nrrd[i]\n",
        "    maskName = mask[i]\n",
        "\n",
        "\n",
        "\n",
        "  # if imageName is None or maskName is None:  # Something went wrong, in this case PyRadiomics will also log an error\n",
        "        #print('Error getting testcase!')\n",
        "        #exit()\n",
        "\n",
        "\n",
        "\n",
        "  # Define settings for signature calculation\n",
        "  # These are currently set equal to the respective default values\n",
        "    settings = {}\n",
        "    settings['binWidth'] = 25\n",
        "    settings['resampledPixelSpacing'] = None  # [3,3,3] is an example for defining resampling (voxels with size 3x3x3mm)\n",
        "    settings['interpolator'] = sitk.sitkBSpline\n",
        "\n",
        "\n",
        "\n",
        "\n",
        "  # Initialize feature extractor\n",
        "    extractor = featureextractor.RadiomicsFeatureExtractor(**settings)\n",
        "\n",
        "  # By default, only original is enabled. Optionally enable some image types:\n",
        "    extractor.enableAllImageTypes()\n",
        "\n",
        "\n",
        "\n",
        "\n",
        "    extractor.disableAllFeatures()\n",
        "    extractor.enableFeatureClassByName('firstorder')\n",
        "    extractor.enableFeatureClassByName('glcm')\n",
        "    extractor.enableFeatureClassByName('gldm')\n",
        "    extractor.enableFeatureClassByName('glrlm')\n",
        "    extractor.enableFeatureClassByName('glszm')\n",
        "    extractor.enableFeatureClassByName('ngtdm')\n",
        "\n",
        "\n",
        "    texto_r = open(os.path.join(r'C:\\Users\\marco\\Desktop\\Mestrado\\Pesquisa\\Resultados',image_r_split[i][0]+'.txt'),'w+')\n",
        "    texto_g = open(os.path.join(r'C:\\Users\\marco\\Desktop\\Mestrado\\Pesquisa\\Resultados',image_g_split[i][0]+'.txt'),'w+')\n",
        "    texto_eri = open(os.path.join(r'C:\\Users\\marco\\Desktop\\Mestrado\\Pesquisa\\Resultados',image_eri_split[i][0]+'.txt'),'w+')\n",
        "\n",
        "\n",
        "    \n",
        "    featureVector_r = extractor.execute(imageName_r, maskName)\n",
        "    featureVector_g = extractor.execute(imageName_g, maskName)\n",
        "    featureVector_eri = extractor.execute(imageName_eri, maskName)\n",
        "\n",
        "\n",
        "\n",
        "    for featureName in featureVector_r.keys():\n",
        "        texto_r.write(\"Computed %s: %s\" % (featureName, featureVector_r[featureName]))\n",
        "    for featureName in featureVector_g.keys():\n",
        "        texto_g.write(\"Computed %s: %s\" % (featureName, featureVector_g[featureName]))\n",
        "    for featureName in featureVector_eri.keys():\n",
        "        texto_eri.write(\"Computed %s: %s\" % (featureName, featureVector_eri[featureName]))\n",
        "    \n",
        "    texto_r.close()\n",
        "    texto_g.close()\n",
        "    texto_eri.close()"
      ],
      "metadata": {
        "id": "4F6a2O79AxSu"
      },
      "execution_count": null,
      "outputs": []
    }
  ]
}