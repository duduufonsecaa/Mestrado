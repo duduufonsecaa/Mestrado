{
 "cells": [
  {
   "cell_type": "markdown",
   "id": "21be8b52",
   "metadata": {},
   "source": [
    "# PNG -> Array"
   ]
  },
  {
   "cell_type": "markdown",
   "id": "95277bd6",
   "metadata": {},
   "source": [
    "Import pillow and numpy"
   ]
  },
  {
   "cell_type": "code",
   "execution_count": 1,
   "id": "5c8d9c90",
   "metadata": {},
   "outputs": [],
   "source": [
    "from PIL import Image"
   ]
  },
  {
   "cell_type": "markdown",
   "id": "b4096139",
   "metadata": {},
   "source": [
    "Opening the image"
   ]
  },
  {
   "cell_type": "code",
   "execution_count": 2,
   "id": "31c87167",
   "metadata": {},
   "outputs": [],
   "source": [
    "im = Image.open(\"rgb.png\")"
   ]
  },
  {
   "cell_type": "markdown",
   "id": "6a94a093",
   "metadata": {},
   "source": [
    "loading the pixels"
   ]
  },
  {
   "cell_type": "code",
   "execution_count": 3,
   "id": "a4d9fc43",
   "metadata": {},
   "outputs": [],
   "source": [
    "pixel = im.load()"
   ]
  },
  {
   "cell_type": "markdown",
   "id": "24c48211",
   "metadata": {},
   "source": [
    "showing the image"
   ]
  },
  {
   "cell_type": "code",
   "execution_count": 4,
   "id": "3601fac6",
   "metadata": {},
   "outputs": [],
   "source": [
    "im.show()"
   ]
  },
  {
   "cell_type": "markdown",
   "id": "3f9f36e8",
   "metadata": {},
   "source": [
    "creating a file "
   ]
  },
  {
   "cell_type": "code",
   "execution_count": 5,
   "id": "b11b83ac",
   "metadata": {},
   "outputs": [],
   "source": [
    "image_txt = open(\"image_array.txt\",\"w\")"
   ]
  },
  {
   "cell_type": "markdown",
   "id": "7d611426",
   "metadata": {},
   "source": [
    "making a matrix and saving in a .txt"
   ]
  },
  {
   "cell_type": "code",
   "execution_count": 6,
   "id": "07c292af",
   "metadata": {},
   "outputs": [],
   "source": [
    "for i in range (im.size[1]):\n",
    "    for j in range (im.size[0]):\n",
    "        image_txt.write(str(pixel[j,i]))\n",
    "    image_txt.write(\"\\n\")"
   ]
  },
  {
   "cell_type": "markdown",
   "id": "06d05d23",
   "metadata": {},
   "source": [
    "closing the files"
   ]
  },
  {
   "cell_type": "code",
   "execution_count": 7,
   "id": "c19ea10e",
   "metadata": {},
   "outputs": [],
   "source": [
    "image_txt.close()\n",
    "im.close()\n"
   ]
  }
 ],
 "metadata": {
  "interpreter": {
   "hash": "104ab0b201326c003eb326b253436127765e9423f74595591084a446732f77fa"
  },
  "kernelspec": {
   "display_name": "Python 3 (ipykernel)",
   "language": "python",
   "name": "python3"
  },
  "language_info": {
   "codemirror_mode": {
    "name": "ipython",
    "version": 3
   },
   "file_extension": ".py",
   "mimetype": "text/x-python",
   "name": "python",
   "nbconvert_exporter": "python",
   "pygments_lexer": "ipython3",
   "version": "3.9.6"
  }
 },
 "nbformat": 4,
 "nbformat_minor": 5
}
